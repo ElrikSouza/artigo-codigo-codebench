{
 "cells": [
  {
   "cell_type": "markdown",
   "metadata": {},
   "source": [
    "## Bibliotecas necessárias\n",
    "\n",
    "```\n",
    "pip install pandas\n",
    "pip install numpy\n",
    "pip scikit-learn\n",
    "```"
   ]
  },
  {
   "cell_type": "code",
   "execution_count": 52,
   "metadata": {},
   "outputs": [],
   "source": [
    "import pandas as pd\n",
    "import numpy as np\n",
    "import re\n",
    "\n",
    "from scipy.stats import zscore"
   ]
  },
  {
   "cell_type": "code",
   "execution_count": 53,
   "metadata": {},
   "outputs": [],
   "source": [
    "DATASET_FOLDER_PATH = './datasets/'\n",
    "\n",
    "def read_csv(name):\n",
    "\treturn pd.read_csv(DATASET_FOLDER_PATH + name + '.csv')"
   ]
  },
  {
   "cell_type": "markdown",
   "metadata": {},
   "source": [
    "## Carregamento dos datasets necessários\n",
    "\t- execucoes.csv\n",
    "\t- atividades.csv\n",
    "\t- solucoes.csv"
   ]
  },
  {
   "cell_type": "code",
   "execution_count": 54,
   "metadata": {},
   "outputs": [],
   "source": [
    "attempts = read_csv('execucoes')\n",
    "activities = read_csv('atividades')\n",
    "solutions = read_csv('solucoes')\n",
    "exams = activities.query('tipo == \"exam\"')"
   ]
  },
  {
   "cell_type": "markdown",
   "metadata": {},
   "source": [
    "## Criando um DataFrame de tentativas de exames presenciais\n",
    "\n",
    "### Critérios\n",
    "\n",
    "\t- A questão tem ao menos 20 tentativas de estudantes diferentes\n",
    "\t- A tentativa tem ao menos uma submissão\n",
    "\t- Tem campo tempo foco não nulo"
   ]
  },
  {
   "cell_type": "code",
   "execution_count": 55,
   "metadata": {},
   "outputs": [],
   "source": [
    "def min_attempts_filter(exam_attempts, min_attempts = 20):\n",
    "\t'Cria uma lista de códigos de questões que tem ao menos o mínimo de tentativas'\n",
    "\n",
    "\tgrouped_attempts = pd.DataFrame()\n",
    "\texam_attempts_exercicio = exam_attempts.groupby('exercicio')['exercicio'].count()\n",
    "\tgrouped_attempts['exercicio'] = exam_attempts_exercicio.index\n",
    "\tgrouped_attempts['attempts'] = exam_attempts_exercicio.values\n",
    "\tselection = grouped_attempts.attempts >= min_attempts\n",
    "\n",
    "\treturn grouped_attempts[selection].exercicio"
   ]
  },
  {
   "cell_type": "code",
   "execution_count": 56,
   "metadata": {},
   "outputs": [],
   "source": [
    "def filter_outliers(df, col):\n",
    "\tselection = np.abs(zscore(df[col]) < 3)\n",
    "\treturn df[selection]"
   ]
  },
  {
   "cell_type": "code",
   "execution_count": 57,
   "metadata": {},
   "outputs": [],
   "source": [
    "def get_implementation_time_in_seconds(raw_time):\n",
    "\t'Converte o campo de tempo de implementação para segundos'\n",
    "\t\n",
    "\ti_time = pd.to_timedelta(raw_time.str.strip())\n",
    "\ti_time = i_time.apply(lambda x: (x.total_seconds()))\n",
    "\n",
    "\treturn i_time\n"
   ]
  },
  {
   "cell_type": "code",
   "execution_count": 58,
   "metadata": {},
   "outputs": [],
   "source": [
    "def get_exam_attempts():\n",
    "\t'Filtra tentativas validas de exames presenciais'\n",
    "\t\n",
    "\texam_codes = exams.codigo.unique()\n",
    "\texam_attempts = attempts.loc[attempts.atividade.isin(exam_codes)]\n",
    "\n",
    "\tprint(f\"Questoes pre-filtro {len(exam_attempts.groupby('exercicio'))}\")\n",
    "\n",
    "\texam_attempts = exam_attempts.query('n_submissoes != 0')\n",
    "\texam_attempts = exam_attempts.dropna(subset=['tempo_foco'])\n",
    "\t\n",
    "\texam_attempts.acertou = exam_attempts.nota_final > 99.99\t\n",
    "\tmin_attempts_code = min_attempts_filter(exam_attempts)\n",
    "\texam_attempts = exam_attempts[exam_attempts.exercicio.isin(min_attempts_code)]\n",
    "\n",
    "\texam_attempts['tempo_foco'] = get_implementation_time_in_seconds(exam_attempts['tempo_foco'])\n",
    "\texam_attempts = filter_outliers(exam_attempts, 'tempo_foco')\n",
    "\n",
    "\treturn exam_attempts"
   ]
  },
  {
   "cell_type": "markdown",
   "metadata": {},
   "source": [
    "## Derivando features booleanas"
   ]
  },
  {
   "cell_type": "code",
   "execution_count": 59,
   "metadata": {},
   "outputs": [],
   "source": [
    "def add_boolean_features(df):\n",
    "\tdf['has_operators'] = df['h1'] > 0\n",
    "\tdf['has_operands'] = df['h2'] > 0\n",
    "\tdf['has_imports'] = df['imports'] > 0\n",
    "\tdf['has_kwds'] = df['kwds_unique'] > 0\n",
    "\tdf['has_numbers'] = df['lt_numbers'] > 0\n",
    "\tdf['has_strs'] = df['lt_strings'] > 0\n",
    "\tdf['has_bools'] = df['lt_booleans'] > 0\n",
    "\tdf['has_lgc_op'] = df['lgc_op_unique'] > 0\n",
    "\tdf['has_arth_op'] = df['arithmetic_op_unique'] > 0\n",
    "\tdf['has_cmp_op'] = df['cmp_op_unique'] > 0\n",
    "\tdf['has_conditionals'] = df['conditionals'] > 0\n",
    "\tdf['has_ifs'] = df['ifs'] > 0\n",
    "\tdf['has_elifs'] = df['elifs'] > 0\n",
    "\tdf['has_elses'] = df['elses'] > 0\n",
    "\tdf['has_loops'] = df['loops'] > 0\n",
    "\tdf['has_fors'] = df['fors'] > 0\n",
    "\tdf['has_whiles'] = df['whiles'] > 0\n",
    "\tdf['has_add_sub'] = (df['add_op'] + df['minus_op']) > 0\n",
    "\tdf['has_mult_div'] = (df['mult_op'] + df['div_op'] + df['div_floor_op']) > 0\n",
    "\tdf['has_blocks'] = df['colons'] > 0"
   ]
  },
  {
   "cell_type": "markdown",
   "metadata": {},
   "source": [
    "## Criando um DataFrame agrupando dados das tentativas dos estundantes\n",
    "\n",
    "Esse dataframe contém a média do número de tentativas e do tempo de implementação."
   ]
  },
  {
   "cell_type": "code",
   "execution_count": 60,
   "metadata": {},
   "outputs": [],
   "source": [
    "def create_exercise_stat_df(filtered_attempts):\n",
    "\texercise_data = filtered_attempts.groupby('exercicio')\n",
    "\tdf = pd.DataFrame()\n",
    "\t\n",
    "\tdf['n_attempts'] = exercise_data.n_submissoes.mean() + exercise_data.n_testes.mean()\n",
    "\tdf['tempo_foco'] = exercise_data.tempo_foco.mean()\n",
    "\n",
    "\treturn df"
   ]
  },
  {
   "cell_type": "markdown",
   "metadata": {},
   "source": [
    "## Recupenrando o modulo de cada questão\n",
    "\n",
    "O modulo será utlizado para separar as questões por assunto durante a classificação."
   ]
  },
  {
   "cell_type": "code",
   "execution_count": 61,
   "metadata": {},
   "outputs": [],
   "source": [
    "def format_titulo(titulo: str):\n",
    "    titulo = re.sub(r'[\\(\\)\\.\\-\\\\:–\\/]', ' ', titulo.lower())\n",
    "    titulo = re.sub(r'[áàã]', 'a', titulo)\n",
    "    titulo = re.sub(r'[éèẽ]', 'e', titulo)\n",
    "    titulo = re.sub(r'[íìĩ]', 'i', titulo)\n",
    "    titulo = re.sub(r'[óòõ]', 'o', titulo)\n",
    "    titulo = re.sub(r'[úùũ]', 'u', titulo)\n",
    "    titulo = re.sub(r'ç', 'c', titulo)\n",
    "    titulo = re.sub(r'\\sde\\s', ' ', titulo)\n",
    "    titulo = re.sub(r'\\scod\\s|\\scodificacao\\s', ' ', titulo)\n",
    "    titulo = re.sub(r'\\sest\\s', ' estrutura ', titulo)\n",
    "    titulo = re.sub(r'^tp|^lab\\s|^lab01\\s|^lab0\\s|^laboratorio\\s|^exercicios desafio\\s|^desafios\\s|^desafio\\s', ' trabalho pratico ', titulo)\n",
    "    titulo = re.sub(r'\\s0\\s', ' 00 ', titulo)\n",
    "    titulo = re.sub(r'\\s+', ' ', titulo)\n",
    "    titulo = titulo.strip()\n",
    "    titulo = re.sub('^trabalho pratico ', 'tp ', titulo)\n",
    "    titulo = re.sub('^t ', 'tp ', titulo)\n",
    "    titulo = re.sub(r'\\s00\\s', ' 0 ', titulo)\n",
    "    titulo = re.sub(r'\\s01\\s', ' 1 ', titulo)\n",
    "    titulo = re.sub(r'\\s02\\s', ' 2 ', titulo)\n",
    "    titulo = re.sub(r'\\s03\\s', ' 3 ', titulo)\n",
    "    titulo = re.sub(r'\\s04\\s', ' 4 ', titulo)\n",
    "    titulo = re.sub(r'\\s05\\s', ' 5 ', titulo)\n",
    "    titulo = re.sub(r'\\s06\\s', ' 6 ', titulo)\n",
    "    titulo = re.sub(r'\\s07\\s', ' 7 ', titulo)\n",
    "    \n",
    "    if titulo.startswith('tp 0') or titulo.startswith('tp p'):\n",
    "        return 'M01' # \"tp 0\" também envolve variáveis e estrutura sequencial\n",
    "    elif titulo.startswith('tp 1') or titulo.startswith('tp v'):\n",
    "        return 'M01'\n",
    "    elif titulo.startswith('tp 2'):\n",
    "        return 'M02'\n",
    "    elif titulo.startswith('tp 3'):\n",
    "        return 'M03'\n",
    "    elif titulo.startswith('tp 4'):\n",
    "        return 'M04'\n",
    "    elif titulo.startswith('tp 5'):\n",
    "        return 'M05'\n",
    "    elif titulo.startswith('tp 6'):\n",
    "        return 'M06'\n",
    "    elif titulo.startswith('tp 7'):\n",
    "        return 'M07'\n",
    "    elif titulo.startswith('prova'):\n",
    "        return 'PF'\n",
    "    elif titulo.startswith('tp s') or titulo.startswith('tp r'):\n",
    "        return 'EXTRA'\n",
    "\n",
    "    return None\n",
    "\n",
    "def get_activity_module_series():\n",
    "    exams_copy = exams.copy()\n",
    "    exams_copy.titulo = exams_copy.titulo.apply(format_titulo)\n",
    "\n",
    "    not_tp = ['EXTRA', 'PF']\n",
    "    trabalhos_praticos = exams_copy.loc[~exams_copy.titulo.isin(not_tp)]\n",
    "\n",
    "    modulo_questao = dict()\n",
    "\n",
    "    for idx in trabalhos_praticos.index:\n",
    "        titulo = trabalhos_praticos.loc[idx, 'titulo'] # recupera o titulo da atividade\n",
    "        blocos = trabalhos_praticos.loc[idx, 'blocos'] # recupera o bloco de questões da atividade\n",
    "        blocos = blocos.replace('[','').replace(']','').replace(' ','').split(',') # separa os códigos das questões que estão no bloco da ativida\n",
    "        for questao in blocos: # adiciona o módulo da questão (titulo da atividade) no dicionário\n",
    "            modulo_questao[int(questao)] = titulo\n",
    "\n",
    "    modulo_questao = pd.Series(modulo_questao)\n",
    "    return modulo_questao\n",
    "\n",
    "def add_activity_modules_col(df):\n",
    "    modulo_questao = get_activity_module_series()\n",
    "    df['module'] = modulo_questao"
   ]
  },
  {
   "cell_type": "markdown",
   "metadata": {},
   "source": [
    "## Criando o DataFrame final para os experimentos\n",
    "\n",
    "Os dados finais incluem os dados agrupados das tentativas, bem como os dados da solução.\n",
    "\n",
    "Os dados da solução do professor serão utilizados com variáveis independentes, e os dados das tentativas como variáveis dependentes."
   ]
  },
  {
   "cell_type": "markdown",
   "metadata": {},
   "source": [
    "## Complementando o dataset de soluções\n",
    "\n",
    "Nem todas as questões do dataset de questões possuem uma solução fornecida\n",
    "pelo professor.\n",
    "\n",
    "Por isso, foi necessário selecionar algumas soluções dos alunos para complementar o dataset.\n",
    "\n",
    "O critério de seleção é o menor tempo de implementação (campo tempo_foco).\n",
    "\n",
    "Duas restrições foram estabelecidadas:\n",
    "\t- O aluno deve ter acertado a questão\n",
    "\t- O tempo de solução deve ser no mínimo 1 minuto"
   ]
  },
  {
   "cell_type": "code",
   "execution_count": 62,
   "metadata": {},
   "outputs": [],
   "source": [
    "def get_exercises_that_dont_have_a_solution(exercise_stats, solutions):\n",
    "\tmissing = list(exercise_stats[exercise_stats.join(solutions.set_index('codigo')).h1.isnull()].index)\n",
    "\treturn missing\n",
    "\n",
    "def get_solution_candidates(missing_codes, exam_attempts):\n",
    "\treturn exam_attempts[\n",
    "\t\t(exam_attempts.exercicio.isin(missing_codes)) &\n",
    "\t\t(exam_attempts.acertou) &\n",
    "\t\t(exam_attempts.tempo_foco > 60)\n",
    "\t]\n",
    "\n",
    "def create_missing_solutions_df(selected_solutions, solutions_raw):\n",
    "\tselected_solutions['codigo'] = selected_solutions.index\n",
    "\tcolumnsToBeRemoved = set(selected_solutions.columns) - set(solutions_raw.columns)\n",
    "\tselected_solutions.drop(columns=columnsToBeRemoved, inplace=True)\n",
    "\n",
    "\treturn selected_solutions\n",
    "\n",
    "def get_solutions_df(exam_attempts, exercise_stats, solutions_raw):\n",
    "\tmissing = get_exercises_that_dont_have_a_solution(exercise_stats, solutions_raw)\n",
    "\tsolution_candidates = get_solution_candidates(missing, exam_attempts)\n",
    "\n",
    "\tselected_solutions = solution_candidates.groupby('exercicio').min()\n",
    "\tselected_solutions = create_missing_solutions_df(selected_solutions, solutions_raw)\n",
    "\n",
    "\treturn pd.concat((selected_solutions, solutions_raw))"
   ]
  },
  {
   "cell_type": "code",
   "execution_count": 63,
   "metadata": {},
   "outputs": [],
   "source": [
    "def create_final_df(exercise_stats, solutions):\n",
    "\tdata = exercise_stats.join(solutions.set_index('codigo')).dropna()\n",
    "\tadd_boolean_features(data)\n",
    "\tadd_activity_modules_col(data)\n",
    "\n",
    "\treturn data"
   ]
  },
  {
   "cell_type": "code",
   "execution_count": 64,
   "metadata": {},
   "outputs": [],
   "source": [
    "def get_data():\n",
    "\texam_attempts = get_exam_attempts()\n",
    "\texercise_stats = create_exercise_stat_df(exam_attempts)\n",
    "\tfinal_solutions = get_solutions_df(exam_attempts, exercise_stats, solutions)\n",
    "\tdata = create_final_df(exercise_stats, final_solutions)\n",
    "\tdata.dropna(subset=['module'], inplace=True)\n",
    "\t\t\n",
    "\treturn data"
   ]
  },
  {
   "cell_type": "markdown",
   "metadata": {},
   "source": [
    "## Salvando o resultado final"
   ]
  },
  {
   "cell_type": "code",
   "execution_count": 65,
   "metadata": {},
   "outputs": [
    {
     "name": "stdout",
     "output_type": "stream",
     "text": [
      "Questoes pre-filtro 656\n",
      "Questoes pos-filtro 328\n"
     ]
    }
   ],
   "source": [
    "data = get_data()\n",
    "print(f\"Questoes pos-filtro {len(data)}\")\n",
    "data.to_csv('./final_df.csv', index=False)"
   ]
  }
 ],
 "metadata": {
  "interpreter": {
   "hash": "e7370f93d1d0cde622a1f8e1c04877d8463912d04d973331ad4851f04de6915a"
  },
  "kernelspec": {
   "display_name": "Python 3.9.7 64-bit",
   "language": "python",
   "name": "python3"
  },
  "language_info": {
   "codemirror_mode": {
    "name": "ipython",
    "version": 3
   },
   "file_extension": ".py",
   "mimetype": "text/x-python",
   "name": "python",
   "nbconvert_exporter": "python",
   "pygments_lexer": "ipython3",
   "version": "3.9.9"
  },
  "orig_nbformat": 4
 },
 "nbformat": 4,
 "nbformat_minor": 2
}
