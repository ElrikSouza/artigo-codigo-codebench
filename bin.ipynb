{
 "cells": [
  {
   "cell_type": "markdown",
   "metadata": {},
   "source": [
    "## Carregando bibliotecas necessárias\n",
    "\n",
    "```\n",
    "pip install scikit-learn\n",
    "pip install xgboost\n",
    "pip install numpy\n",
    "pip install pandas\n",
    "```"
   ]
  },
  {
   "cell_type": "code",
   "execution_count": 29,
   "metadata": {},
   "outputs": [],
   "source": [
    "import pandas as pd\n",
    "import numpy as np\n",
    "\n",
    "from sklearn.model_selection import RandomizedSearchCV, StratifiedKFold, train_test_split\n",
    "from sklearn.ensemble import RandomForestClassifier\n",
    "from sklearn.base import clone\n",
    "from sklearn.feature_selection import VarianceThreshold, SelectFromModel\n",
    "from xgboost import XGBClassifier\n",
    "\n",
    "np.random.seed(54)"
   ]
  },
  {
   "cell_type": "markdown",
   "metadata": {},
   "source": [
    "## Carregando dataset final"
   ]
  },
  {
   "cell_type": "code",
   "execution_count": 30,
   "metadata": {},
   "outputs": [],
   "source": [
    "PATH = './final_df.csv'\n",
    "data = pd.read_csv(PATH)\n",
    "\n",
    "def get_data_copy():\n",
    "\treturn data.copy()"
   ]
  },
  {
   "cell_type": "markdown",
   "metadata": {},
   "source": [
    "## Gerando classificação binária"
   ]
  },
  {
   "cell_type": "code",
   "execution_count": 31,
   "metadata": {},
   "outputs": [],
   "source": [
    "def map_bin_classification(val, threshold):\n",
    "\tif val > threshold:\n",
    "\t\treturn 1 \n",
    "\treturn 0\n",
    "\n",
    "def create_bin_classification(column, threshold):\n",
    "\t'Gera uma classificação binária dividindo a coluna utilizando a variável threshold'\n",
    "\n",
    "\tmap_lambda = lambda x: map_bin_classification(x, threshold)\n",
    "\treturn column.apply(map_lambda)"
   ]
  },
  {
   "cell_type": "markdown",
   "metadata": {},
   "source": [
    "## Criando funções para treinar os classificadores"
   ]
  },
  {
   "cell_type": "code",
   "execution_count": 32,
   "metadata": {},
   "outputs": [],
   "source": [
    "def remove_features(x,y,selector):\n",
    "\t'Remove features de x utilizando um seletor do sklearn'\n",
    "\n",
    "\tfeatures = list(selector.fit(x,y).get_support(indices=True))\n",
    "\tx = x.iloc[:, features]\n",
    "\n",
    "\treturn x"
   ]
  },
  {
   "cell_type": "code",
   "execution_count": 33,
   "metadata": {},
   "outputs": [],
   "source": [
    "# colunas que não pertencem aos dados da solução do professor\n",
    "REMOVE_FROM_X = ['module', 'tempo_foco', 'n_attempts']\n",
    "\n",
    "def get_x_and_y(data, selector, y_col):\n",
    "\t'Divide o x e y e remove features desnecessárias'\n",
    "\n",
    "\ty = data[y_col]\n",
    "\tx = data.drop(columns = REMOVE_FROM_X)\n",
    "\tx = x.drop(columns = y_col)\n",
    "\n",
    "\tx = remove_features(x,y,VarianceThreshold(0.05))\n",
    "\tx = remove_features(x,y,selector)\n",
    "\n",
    "\treturn x,y"
   ]
  },
  {
   "cell_type": "code",
   "execution_count": 34,
   "metadata": {},
   "outputs": [],
   "source": [
    "randomForestParams = dict(\n",
    "\tmax_depth = [5,7,11],\n",
    "\tn_estimators = [50,75,100]\n",
    ")\n",
    "\n",
    "xgboostParams = dict(\n",
    "\tn_estimators = [100, 200, 270, 300],\n",
    "\tlearning_rate=[0.17, 0.27, 0.37],\n",
    "\n",
    ")\n",
    "\n",
    "def get_best_estimator(x,y,kfold,estimator, params):\n",
    "\tsearch = RandomizedSearchCV(estimator, params, n_iter=9, cv=kfold)\n",
    "\tsearch.fit(x,y)\n",
    "\treturn clone(search.best_estimator_)\n",
    "\n",
    "def tune_estimator(x,y,kfold,estimator):\n",
    "\t'Escolhe os melhores parametros para o classificador utilizando RandomizedSCV'\n",
    "\tif isinstance(estimator, RandomForestClassifier):\n",
    "\t\treturn get_best_estimator(x,y,kfold,estimator, randomForestParams)\n",
    "\n",
    "\tif isinstance(estimator, XGBClassifier):\n",
    "\t\treturn get_best_estimator(x,y,kfold,estimator,xgboostParams)\n",
    "\n",
    "\treturn estimator"
   ]
  },
  {
   "cell_type": "code",
   "execution_count": 35,
   "metadata": {},
   "outputs": [],
   "source": [
    "def score_estimator(x,y,estimator):\n",
    "\ttrain_x, test_x, train_y, test_y = train_test_split(x,y,stratify=y,test_size=0.33, random_state=67)\n",
    "\testimator.fit(train_x, train_y)\n",
    "\treturn estimator.score(test_x, test_y)\n",
    "\n",
    "def train_estimator(data, estimator, selector, y_col):\n",
    "\tx,y = get_x_and_y(data, selector, y_col)\n",
    "\ttuned_estimator = tune_estimator(x,y,StratifiedKFold(n_splits=3),estimator)\n",
    "\treturn score_estimator(x,y,tuned_estimator)\n",
    "\n",
    "\n",
    "def train_estimator_by_module(data, estimator, selector, y_col):\n",
    "\tmodules = data.module.unique()\n",
    "\n",
    "\tfor module in modules:\n",
    "\t\tprint(module)\n",
    "\t\tmodule_data = data[data.module == module]\n",
    "\t\tscore = train_estimator(module_data, estimator, selector, y_col)\n",
    "\t\tprint(score)"
   ]
  },
  {
   "cell_type": "markdown",
   "metadata": {},
   "source": [
    "## Criando as classificações binárias de tempo e número de tentativas\n",
    "\n",
    "O critério de divisão das classes é:\n",
    "\n",
    "0 = abaixo ou igual à mediana\n",
    "\n",
    "1 = acima da mediana"
   ]
  },
  {
   "cell_type": "code",
   "execution_count": 36,
   "metadata": {},
   "outputs": [],
   "source": [
    "data_tempo = get_data_copy()\n",
    "data_attempts = get_data_copy()\n",
    "\n",
    "data_tempo['tempo_bin'] = create_bin_classification(data.tempo_foco, data.tempo_foco.median())\n",
    "data_attempts['attempts_bin'] = create_bin_classification(data.n_attempts, data.n_attempts.median())"
   ]
  },
  {
   "cell_type": "markdown",
   "metadata": {},
   "source": [
    "## Treinando os classificadores"
   ]
  },
  {
   "cell_type": "markdown",
   "metadata": {},
   "source": [
    "### Treinando os classificadores com o tempo de implementação"
   ]
  },
  {
   "cell_type": "markdown",
   "metadata": {},
   "source": [
    "#### Random Forest"
   ]
  },
  {
   "cell_type": "code",
   "execution_count": 37,
   "metadata": {},
   "outputs": [
    {
     "name": "stdout",
     "output_type": "stream",
     "text": [
      "M01\n",
      "0.9090909090909091\n",
      "M02\n",
      "0.7\n",
      "M03\n",
      "0.9411764705882353\n",
      "M07\n",
      "0.75\n",
      "M04\n",
      "0.8333333333333334\n",
      "M05\n",
      "0.7142857142857143\n",
      "M06\n",
      "1.0\n"
     ]
    }
   ],
   "source": [
    "train_estimator_by_module(\n",
    "\tdata_tempo,\n",
    "\tRandomForestClassifier(),\t\n",
    "\tSelectFromModel(RandomForestClassifier(n_jobs=-1), max_features=15),\n",
    "\ty_col=\"tempo_bin\"\n",
    ")"
   ]
  },
  {
   "cell_type": "markdown",
   "metadata": {},
   "source": [
    "#### XGBoost"
   ]
  },
  {
   "cell_type": "code",
   "execution_count": 38,
   "metadata": {},
   "outputs": [
    {
     "name": "stdout",
     "output_type": "stream",
     "text": [
      "M01\n",
      "0.7727272727272727\n",
      "M02\n",
      "0.65\n",
      "M03\n",
      "0.8823529411764706\n",
      "M07\n",
      "0.75\n",
      "M04\n",
      "0.8333333333333334\n",
      "M05\n",
      "0.7857142857142857\n",
      "M06\n",
      "1.0\n"
     ]
    }
   ],
   "source": [
    "train_estimator_by_module(\n",
    "\tdata_tempo,\n",
    "\tXGBClassifier(n_jobs=-1, eval_metric=\"logloss\", use_label_encoder=False),\n",
    "\tSelectFromModel(XGBClassifier(n_jobs=-1, eval_metric=\"logloss\", use_label_encoder=False), max_features=15),\n",
    "\ty_col=\"tempo_bin\"\n",
    ")"
   ]
  },
  {
   "cell_type": "markdown",
   "metadata": {},
   "source": [
    "### Número de tentativas"
   ]
  },
  {
   "cell_type": "markdown",
   "metadata": {},
   "source": [
    "#### RandomForest"
   ]
  },
  {
   "cell_type": "code",
   "execution_count": 39,
   "metadata": {},
   "outputs": [
    {
     "name": "stdout",
     "output_type": "stream",
     "text": [
      "M01\n",
      "0.6818181818181818\n",
      "M02\n",
      "0.75\n",
      "M03\n",
      "0.6470588235294118\n",
      "M07\n",
      "0.6875\n",
      "M04\n",
      "0.9166666666666666\n",
      "M05\n",
      "0.35714285714285715\n",
      "M06\n",
      "0.9\n"
     ]
    }
   ],
   "source": [
    "train_estimator_by_module(\n",
    "\tdata_attempts,\n",
    "\tRandomForestClassifier(),\t\n",
    "\tSelectFromModel(RandomForestClassifier(n_jobs=-1), max_features=15),\n",
    "\ty_col=\"attempts_bin\"\n",
    ")"
   ]
  },
  {
   "cell_type": "markdown",
   "metadata": {},
   "source": [
    "#### XGBoost"
   ]
  },
  {
   "cell_type": "code",
   "execution_count": 40,
   "metadata": {},
   "outputs": [
    {
     "name": "stdout",
     "output_type": "stream",
     "text": [
      "M01\n",
      "0.7272727272727273\n",
      "M02\n",
      "0.5\n",
      "M03\n",
      "0.7058823529411765\n",
      "M07\n",
      "0.6875\n",
      "M04\n",
      "0.9166666666666666\n",
      "M05\n",
      "0.35714285714285715\n",
      "M06\n",
      "0.9\n"
     ]
    }
   ],
   "source": [
    "train_estimator_by_module(\n",
    "\tdata_attempts,\n",
    "\tXGBClassifier(n_jobs=-1, eval_metric=\"logloss\", use_label_encoder=False),\n",
    "\tSelectFromModel(XGBClassifier(n_jobs=-1, eval_metric=\"logloss\", use_label_encoder=False), max_features=15),\n",
    "\ty_col=\"attempts_bin\"\n",
    ")"
   ]
  }
 ],
 "metadata": {
  "interpreter": {
   "hash": "e7370f93d1d0cde622a1f8e1c04877d8463912d04d973331ad4851f04de6915a"
  },
  "kernelspec": {
   "display_name": "Python 3.9.7 64-bit",
   "language": "python",
   "name": "python3"
  },
  "language_info": {
   "codemirror_mode": {
    "name": "ipython",
    "version": 3
   },
   "file_extension": ".py",
   "mimetype": "text/x-python",
   "name": "python",
   "nbconvert_exporter": "python",
   "pygments_lexer": "ipython3",
   "version": "3.9.9"
  },
  "orig_nbformat": 4
 },
 "nbformat": 4,
 "nbformat_minor": 2
}
